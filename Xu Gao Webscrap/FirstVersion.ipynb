{
 "cells": [
  {
   "cell_type": "code",
   "execution_count": 3,
   "metadata": {
    "collapsed": false
   },
   "outputs": [],
   "source": [
    "import numpy as np\n",
    "import pandas as pd\n",
    "import Algorithmia\n",
    "from matplotlib import pyplot as plt\n",
    "%matplotlib inline "
   ]
  },
  {
   "cell_type": "code",
   "execution_count": 4,
   "metadata": {
    "collapsed": true
   },
   "outputs": [],
   "source": [
    "#need to load data first\n",
    "Data=pd.read_csv('data.csv')"
   ]
  },
  {
   "cell_type": "code",
   "execution_count": 5,
   "metadata": {
    "collapsed": false
   },
   "outputs": [
    {
     "data": {
      "text/html": [
       "<div>\n",
       "<table border=\"1\" class=\"dataframe\">\n",
       "  <thead>\n",
       "    <tr style=\"text-align: right;\">\n",
       "      <th></th>\n",
       "      <th>category</th>\n",
       "      <th>rating</th>\n",
       "      <th>name</th>\n",
       "      <th>app</th>\n",
       "      <th>date</th>\n",
       "      <th>review</th>\n",
       "      <th>ratingNum</th>\n",
       "    </tr>\n",
       "  </thead>\n",
       "  <tbody>\n",
       "    <tr>\n",
       "      <th>0</th>\n",
       "      <td>Top Free in Android Apps</td>\n",
       "      <td>Rated 1 stars out of five stars</td>\n",
       "      <td>D Th</td>\n",
       "      <td>FOX Sports GO</td>\n",
       "      <td>February 5, 2017</td>\n",
       "      <td>Downloaded the app to watch the superebowl fro...</td>\n",
       "      <td>1</td>\n",
       "    </tr>\n",
       "    <tr>\n",
       "      <th>1</th>\n",
       "      <td>Top Free in Android Apps</td>\n",
       "      <td>Rated 5 stars out of five stars</td>\n",
       "      <td>Sophie Gordon</td>\n",
       "      <td>Kika Emoji Keyboard Pro + GIFs</td>\n",
       "      <td>February 2, 2017</td>\n",
       "      <td>Great app! The predictive text works better th...</td>\n",
       "      <td>5</td>\n",
       "    </tr>\n",
       "    <tr>\n",
       "      <th>2</th>\n",
       "      <td>Top Free in Android Apps</td>\n",
       "      <td>Rated 5 stars out of five stars</td>\n",
       "      <td>Srinidhi Karthik B S</td>\n",
       "      <td>Amazon Shopping</td>\n",
       "      <td>January 27, 2017</td>\n",
       "      <td>I love Amazon. This is the first time I felt p...</td>\n",
       "      <td>5</td>\n",
       "    </tr>\n",
       "    <tr>\n",
       "      <th>3</th>\n",
       "      <td>Top Free in Android Apps</td>\n",
       "      <td>Rated 1 stars out of five stars</td>\n",
       "      <td>Christie Craft</td>\n",
       "      <td>FOX Sports GO</td>\n",
       "      <td>February 5, 2017</td>\n",
       "      <td>So the reason you decided to NOT allow us to w...</td>\n",
       "      <td>1</td>\n",
       "    </tr>\n",
       "    <tr>\n",
       "      <th>4</th>\n",
       "      <td>Top Free in Android Apps</td>\n",
       "      <td>Rated 1 stars out of five stars</td>\n",
       "      <td>Lucas Don Velure</td>\n",
       "      <td>FOX Sports GO</td>\n",
       "      <td>January 28, 2017</td>\n",
       "      <td>Works for exactly one time. Then needs to be r...</td>\n",
       "      <td>1</td>\n",
       "    </tr>\n",
       "    <tr>\n",
       "      <th>5</th>\n",
       "      <td>Top Free in Android Apps</td>\n",
       "      <td>Rated 4 stars out of five stars</td>\n",
       "      <td>Tim Hefty</td>\n",
       "      <td>FOX Sports GO</td>\n",
       "      <td>February 5, 2017</td>\n",
       "      <td>I really really really want to like this app b...</td>\n",
       "      <td>4</td>\n",
       "    </tr>\n",
       "    <tr>\n",
       "      <th>6</th>\n",
       "      <td>Top Free in Android Apps</td>\n",
       "      <td>Rated 3 stars out of five stars</td>\n",
       "      <td>Chance Diggz</td>\n",
       "      <td>FOX Sports GO</td>\n",
       "      <td>February 5, 2017</td>\n",
       "      <td>Truly suckz that the android app doesn't show ...</td>\n",
       "      <td>3</td>\n",
       "    </tr>\n",
       "    <tr>\n",
       "      <th>7</th>\n",
       "      <td>Top Free in Android Apps</td>\n",
       "      <td>Rated 1 stars out of five stars</td>\n",
       "      <td>Russell Morrisey</td>\n",
       "      <td>FOX Sports GO</td>\n",
       "      <td>February 6, 2017</td>\n",
       "      <td>Chromecasted the Superbowl to save money on ca...</td>\n",
       "      <td>1</td>\n",
       "    </tr>\n",
       "    <tr>\n",
       "      <th>8</th>\n",
       "      <td>Top Free in Android Apps</td>\n",
       "      <td>Rated 1 stars out of five stars</td>\n",
       "      <td>Matt Ballard</td>\n",
       "      <td>FOX Sports GO</td>\n",
       "      <td>February 5, 2017</td>\n",
       "      <td>Advertised that I can stream the Superbowl thr...</td>\n",
       "      <td>1</td>\n",
       "    </tr>\n",
       "    <tr>\n",
       "      <th>9</th>\n",
       "      <td>Top Free in Android Apps</td>\n",
       "      <td>Rated 2 stars out of five stars</td>\n",
       "      <td>Tyler Aragon</td>\n",
       "      <td>FOX Sports GO</td>\n",
       "      <td>January 22, 2017</td>\n",
       "      <td>Kept erroring with a \"null\" error message and ...</td>\n",
       "      <td>2</td>\n",
       "    </tr>\n",
       "    <tr>\n",
       "      <th>10</th>\n",
       "      <td>Top Free in Android Apps</td>\n",
       "      <td>Rated 1 stars out of five stars</td>\n",
       "      <td>Emeka Uzomba</td>\n",
       "      <td>FOX Sports GO</td>\n",
       "      <td>February 5, 2017</td>\n",
       "      <td>On my laptop and phone it stopped working 3rd ...</td>\n",
       "      <td>1</td>\n",
       "    </tr>\n",
       "    <tr>\n",
       "      <th>11</th>\n",
       "      <td>Top Free in Android Apps</td>\n",
       "      <td>Rated 1 stars out of five stars</td>\n",
       "      <td>Melody _</td>\n",
       "      <td>Twitter</td>\n",
       "      <td>February 6, 2017</td>\n",
       "      <td>Was actively using Twitter when \"they\" decided...</td>\n",
       "      <td>1</td>\n",
       "    </tr>\n",
       "    <tr>\n",
       "      <th>12</th>\n",
       "      <td>Top Free in Android Apps</td>\n",
       "      <td>Rated 4 stars out of five stars</td>\n",
       "      <td>anonymous</td>\n",
       "      <td>Kika Emoji Keyboard Pro + GIFs</td>\n",
       "      <td>February 6, 2017</td>\n",
       "      <td>I think this app is amazing! But I think you s...</td>\n",
       "      <td>4</td>\n",
       "    </tr>\n",
       "    <tr>\n",
       "      <th>13</th>\n",
       "      <td>Top Free in Android Apps</td>\n",
       "      <td>Rated 5 stars out of five stars</td>\n",
       "      <td>Harley Goez RAWRR</td>\n",
       "      <td>Kika Emoji Keyboard Pro + GIFs</td>\n",
       "      <td>February 1, 2017</td>\n",
       "      <td>I've been using this app for years now. I love...</td>\n",
       "      <td>5</td>\n",
       "    </tr>\n",
       "    <tr>\n",
       "      <th>14</th>\n",
       "      <td>Top Free in Android Apps</td>\n",
       "      <td>Rated 1 stars out of five stars</td>\n",
       "      <td>Katie Diehl</td>\n",
       "      <td>Kika Emoji Keyboard Pro + GIFs</td>\n",
       "      <td>February 4, 2017</td>\n",
       "      <td>Updated the app with a supposed fix for the ge...</td>\n",
       "      <td>1</td>\n",
       "    </tr>\n",
       "    <tr>\n",
       "      <th>15</th>\n",
       "      <td>Top Free in Android Apps</td>\n",
       "      <td>Rated 4 stars out of five stars</td>\n",
       "      <td>chasethegod93</td>\n",
       "      <td>Kika Emoji Keyboard Pro + GIFs</td>\n",
       "      <td>February 3, 2017</td>\n",
       "      <td>Really cool keyboard. Has great interface and ...</td>\n",
       "      <td>4</td>\n",
       "    </tr>\n",
       "    <tr>\n",
       "      <th>16</th>\n",
       "      <td>Top Free in Android Apps</td>\n",
       "      <td>Rated 5 stars out of five stars</td>\n",
       "      <td>Fred Gutierrez</td>\n",
       "      <td>Kika Emoji Keyboard Pro + GIFs</td>\n",
       "      <td>January 31, 2017</td>\n",
       "      <td>This app does stuff! It's so cool for doing th...</td>\n",
       "      <td>5</td>\n",
       "    </tr>\n",
       "    <tr>\n",
       "      <th>17</th>\n",
       "      <td>Top Free in Android Apps</td>\n",
       "      <td>Rated 4 stars out of five stars</td>\n",
       "      <td>Rachel Lipman</td>\n",
       "      <td>Kika Emoji Keyboard Pro + GIFs</td>\n",
       "      <td>February 3, 2017</td>\n",
       "      <td>This app is great but I wish you could chose y...</td>\n",
       "      <td>4</td>\n",
       "    </tr>\n",
       "    <tr>\n",
       "      <th>18</th>\n",
       "      <td>Top Free in Android Apps</td>\n",
       "      <td>Rated 5 stars out of five stars</td>\n",
       "      <td>Patricia Alday</td>\n",
       "      <td>Kika Emoji Keyboard Pro + GIFs</td>\n",
       "      <td>February 6, 2017</td>\n",
       "      <td>I tried other apps but they weren't as good as...</td>\n",
       "      <td>5</td>\n",
       "    </tr>\n",
       "    <tr>\n",
       "      <th>19</th>\n",
       "      <td>Top Free in Android Apps</td>\n",
       "      <td>Rated 5 stars out of five stars</td>\n",
       "      <td>Sandra Short</td>\n",
       "      <td>Kika Emoji Keyboard Pro + GIFs</td>\n",
       "      <td>February 4, 2017</td>\n",
       "      <td>It definitely helps keep the boredom away😎</td>\n",
       "      <td>5</td>\n",
       "    </tr>\n",
       "    <tr>\n",
       "      <th>20</th>\n",
       "      <td>Top Free in Android Apps</td>\n",
       "      <td>Rated 1 stars out of five stars</td>\n",
       "      <td>HeatherGabree United Faith Movement</td>\n",
       "      <td>Amazon Shopping</td>\n",
       "      <td>January 25, 2017</td>\n",
       "      <td>I have never had so many issues with ordering ...</td>\n",
       "      <td>1</td>\n",
       "    </tr>\n",
       "    <tr>\n",
       "      <th>21</th>\n",
       "      <td>Top Free in Android Apps</td>\n",
       "      <td>Rated 4 stars out of five stars</td>\n",
       "      <td>anonymous</td>\n",
       "      <td>Amazon Shopping</td>\n",
       "      <td>January 24, 2017</td>\n",
       "      <td>EDIT: I emailed the seller and customer servic...</td>\n",
       "      <td>4</td>\n",
       "    </tr>\n",
       "    <tr>\n",
       "      <th>22</th>\n",
       "      <td>Top Free in Android Apps</td>\n",
       "      <td>Rated 2 stars out of five stars</td>\n",
       "      <td>Johnny Geiss</td>\n",
       "      <td>Amazon Shopping</td>\n",
       "      <td>January 25, 2017</td>\n",
       "      <td>App is ok, my only complaint is that you have ...</td>\n",
       "      <td>2</td>\n",
       "    </tr>\n",
       "    <tr>\n",
       "      <th>23</th>\n",
       "      <td>Top Free in Android Apps</td>\n",
       "      <td>Rated 5 stars out of five stars</td>\n",
       "      <td>ben read</td>\n",
       "      <td>Amazon Shopping</td>\n",
       "      <td>January 28, 2017</td>\n",
       "      <td>This is a review for the app, not the company....</td>\n",
       "      <td>5</td>\n",
       "    </tr>\n",
       "    <tr>\n",
       "      <th>24</th>\n",
       "      <td>Top Free in Android Apps</td>\n",
       "      <td>Rated 3 stars out of five stars</td>\n",
       "      <td>anonymous</td>\n",
       "      <td>Amazon Shopping</td>\n",
       "      <td>February 1, 2017</td>\n",
       "      <td>I like Amazon but their site and app need work...</td>\n",
       "      <td>3</td>\n",
       "    </tr>\n",
       "    <tr>\n",
       "      <th>25</th>\n",
       "      <td>Top Free in Android Apps</td>\n",
       "      <td>Rated 1 stars out of five stars</td>\n",
       "      <td>d0x d0x</td>\n",
       "      <td>Amazon Shopping</td>\n",
       "      <td>January 26, 2017</td>\n",
       "      <td>This app is awful on the Pixel XL.  Sometimes ...</td>\n",
       "      <td>1</td>\n",
       "    </tr>\n",
       "    <tr>\n",
       "      <th>26</th>\n",
       "      <td>Top Free in Android Apps</td>\n",
       "      <td>Rated 1 stars out of five stars</td>\n",
       "      <td>Dave Sullivan</td>\n",
       "      <td>Amazon Shopping</td>\n",
       "      <td>February 5, 2017</td>\n",
       "      <td>One starring this because of your awful Video ...</td>\n",
       "      <td>1</td>\n",
       "    </tr>\n",
       "    <tr>\n",
       "      <th>27</th>\n",
       "      <td>Top Free in Android Apps</td>\n",
       "      <td>Rated 5 stars out of five stars</td>\n",
       "      <td>Shawn Keller</td>\n",
       "      <td>Amazon Shopping</td>\n",
       "      <td>January 29, 2017</td>\n",
       "      <td>Tried to reach out to amazon but continously g...</td>\n",
       "      <td>5</td>\n",
       "    </tr>\n",
       "    <tr>\n",
       "      <th>28</th>\n",
       "      <td>Top Free in Android Apps</td>\n",
       "      <td>Rated 1 stars out of five stars</td>\n",
       "      <td>Marvin Ramsey</td>\n",
       "      <td>Yahoo Mail – Stay Organized</td>\n",
       "      <td>February 2, 2017</td>\n",
       "      <td>It went from doing the job pretty decently to ...</td>\n",
       "      <td>1</td>\n",
       "    </tr>\n",
       "    <tr>\n",
       "      <th>29</th>\n",
       "      <td>Top Free in Android Apps</td>\n",
       "      <td>Rated 5 stars out of five stars</td>\n",
       "      <td>Rhonda Gentry</td>\n",
       "      <td>ZEDGE™ Ringtones &amp; Wallpapers</td>\n",
       "      <td>February 7, 2017</td>\n",
       "      <td>I love the app and the ringtones but for some ...</td>\n",
       "      <td>5</td>\n",
       "    </tr>\n",
       "    <tr>\n",
       "      <th>...</th>\n",
       "      <td>...</td>\n",
       "      <td>...</td>\n",
       "      <td>...</td>\n",
       "      <td>...</td>\n",
       "      <td>...</td>\n",
       "      <td>...</td>\n",
       "      <td>...</td>\n",
       "    </tr>\n",
       "    <tr>\n",
       "      <th>8899</th>\n",
       "      <td>Top Free in Android Apps</td>\n",
       "      <td>Rated 4 stars out of five stars</td>\n",
       "      <td>Sina F</td>\n",
       "      <td>Messenger</td>\n",
       "      <td>February 7, 2017</td>\n",
       "      <td>I like it alot it helps makes the best things ...</td>\n",
       "      <td>4</td>\n",
       "    </tr>\n",
       "    <tr>\n",
       "      <th>8900</th>\n",
       "      <td>Top Free in Android Apps</td>\n",
       "      <td>Rated 2 stars out of five stars</td>\n",
       "      <td>Ronnie Lohi</td>\n",
       "      <td>Messenger</td>\n",
       "      <td>February 6, 2017</td>\n",
       "      <td>Sending pictures rarely works with messenger, ...</td>\n",
       "      <td>2</td>\n",
       "    </tr>\n",
       "    <tr>\n",
       "      <th>8901</th>\n",
       "      <td>Top Free in Android Apps</td>\n",
       "      <td>Rated 1 stars out of five stars</td>\n",
       "      <td>Chadack42</td>\n",
       "      <td>Messenger</td>\n",
       "      <td>February 7, 2017</td>\n",
       "      <td>This app has had the same update info every ti...</td>\n",
       "      <td>1</td>\n",
       "    </tr>\n",
       "    <tr>\n",
       "      <th>8902</th>\n",
       "      <td>Top Free in Android Apps</td>\n",
       "      <td>Rated 4 stars out of five stars</td>\n",
       "      <td>Nelly Amar</td>\n",
       "      <td>Messenger</td>\n",
       "      <td>February 6, 2017</td>\n",
       "      <td>I love it but when connection is low. This mes...</td>\n",
       "      <td>4</td>\n",
       "    </tr>\n",
       "    <tr>\n",
       "      <th>8903</th>\n",
       "      <td>Top Free in Android Apps</td>\n",
       "      <td>Rated 1 stars out of five stars</td>\n",
       "      <td>anonymous</td>\n",
       "      <td>Messenger</td>\n",
       "      <td>February 6, 2017</td>\n",
       "      <td>It won't connect even when my internet connect...</td>\n",
       "      <td>1</td>\n",
       "    </tr>\n",
       "    <tr>\n",
       "      <th>8904</th>\n",
       "      <td>Top Free in Android Apps</td>\n",
       "      <td>Rated 1 stars out of five stars</td>\n",
       "      <td>Христо Христов</td>\n",
       "      <td>Messenger</td>\n",
       "      <td>February 6, 2017</td>\n",
       "      <td>It's still. The most terrible update. Nothing ...</td>\n",
       "      <td>1</td>\n",
       "    </tr>\n",
       "    <tr>\n",
       "      <th>8905</th>\n",
       "      <td>Top Free in Android Apps</td>\n",
       "      <td>Rated 4 stars out of five stars</td>\n",
       "      <td>Jan Harris</td>\n",
       "      <td>Messenger</td>\n",
       "      <td>February 6, 2017</td>\n",
       "      <td>It's not too bad.  Plz quit making this app up...</td>\n",
       "      <td>4</td>\n",
       "    </tr>\n",
       "    <tr>\n",
       "      <th>8906</th>\n",
       "      <td>Top Free in Android Apps</td>\n",
       "      <td>Rated 3 stars out of five stars</td>\n",
       "      <td>Ma Ja</td>\n",
       "      <td>Messenger</td>\n",
       "      <td>February 7, 2017</td>\n",
       "      <td>I don't like the new layout for adding text, i...</td>\n",
       "      <td>3</td>\n",
       "    </tr>\n",
       "    <tr>\n",
       "      <th>8907</th>\n",
       "      <td>Top Free in Android Apps</td>\n",
       "      <td>Rated 4 stars out of five stars</td>\n",
       "      <td>anonymous</td>\n",
       "      <td>Messenger</td>\n",
       "      <td>February 7, 2017</td>\n",
       "      <td>I left a conversation and then changed my mine...</td>\n",
       "      <td>4</td>\n",
       "    </tr>\n",
       "    <tr>\n",
       "      <th>8908</th>\n",
       "      <td>Top Free in Android Apps</td>\n",
       "      <td>Rated 1 stars out of five stars</td>\n",
       "      <td>flavius alin</td>\n",
       "      <td>Messenger</td>\n",
       "      <td>February 7, 2017</td>\n",
       "      <td>It's always say \"waiting for network\" on cellu...</td>\n",
       "      <td>1</td>\n",
       "    </tr>\n",
       "    <tr>\n",
       "      <th>8909</th>\n",
       "      <td>Top Free in Android Apps</td>\n",
       "      <td>Rated 5 stars out of five stars</td>\n",
       "      <td>AZ Star</td>\n",
       "      <td>Messenger</td>\n",
       "      <td>February 6, 2017</td>\n",
       "      <td>I would like to sugess that if we can send s l...</td>\n",
       "      <td>5</td>\n",
       "    </tr>\n",
       "    <tr>\n",
       "      <th>8910</th>\n",
       "      <td>Top Free in Android Apps</td>\n",
       "      <td>Rated 2 stars out of five stars</td>\n",
       "      <td>Vinay vinnu</td>\n",
       "      <td>Messenger</td>\n",
       "      <td>February 7, 2017</td>\n",
       "      <td>It is lagging my phone and it is connecting ag...</td>\n",
       "      <td>2</td>\n",
       "    </tr>\n",
       "    <tr>\n",
       "      <th>8911</th>\n",
       "      <td>Top Free in Android Apps</td>\n",
       "      <td>Rated 1 stars out of five stars</td>\n",
       "      <td>anonymous</td>\n",
       "      <td>Messenger</td>\n",
       "      <td>February 6, 2017</td>\n",
       "      <td>Unread notification count won't go away even i...</td>\n",
       "      <td>1</td>\n",
       "    </tr>\n",
       "    <tr>\n",
       "      <th>8912</th>\n",
       "      <td>Top Free in Android Apps</td>\n",
       "      <td>Rated 1 stars out of five stars</td>\n",
       "      <td>anonymous</td>\n",
       "      <td>Messenger</td>\n",
       "      <td>February 6, 2017</td>\n",
       "      <td>Hate this new messenger  and no option to reve...</td>\n",
       "      <td>1</td>\n",
       "    </tr>\n",
       "    <tr>\n",
       "      <th>8913</th>\n",
       "      <td>Top Free in Android Apps</td>\n",
       "      <td>Rated 5 stars out of five stars</td>\n",
       "      <td>NoMuLa SuMaN</td>\n",
       "      <td>Messenger</td>\n",
       "      <td>February 6, 2017</td>\n",
       "      <td>It's use full messenger gud app i don't know m...</td>\n",
       "      <td>5</td>\n",
       "    </tr>\n",
       "    <tr>\n",
       "      <th>8914</th>\n",
       "      <td>Top Free in Android Apps</td>\n",
       "      <td>Rated 3 stars out of five stars</td>\n",
       "      <td>Lubna Javed</td>\n",
       "      <td>Messenger</td>\n",
       "      <td>February 7, 2017</td>\n",
       "      <td>We can do Free calls  awesome  dunt remove fre...</td>\n",
       "      <td>3</td>\n",
       "    </tr>\n",
       "    <tr>\n",
       "      <th>8915</th>\n",
       "      <td>Top Free in Android Apps</td>\n",
       "      <td>Rated 2 stars out of five stars</td>\n",
       "      <td>Kim McMillion</td>\n",
       "      <td>Messenger</td>\n",
       "      <td>February 7, 2017</td>\n",
       "      <td>I hate you Dramabook!   separating into two ap...</td>\n",
       "      <td>2</td>\n",
       "    </tr>\n",
       "    <tr>\n",
       "      <th>8916</th>\n",
       "      <td>Top Free in Android Apps</td>\n",
       "      <td>Rated 1 stars out of five stars</td>\n",
       "      <td>Kevin Luna</td>\n",
       "      <td>Messenger</td>\n",
       "      <td>February 6, 2017</td>\n",
       "      <td>It's acting up now. It shut down and will not ...</td>\n",
       "      <td>1</td>\n",
       "    </tr>\n",
       "    <tr>\n",
       "      <th>8917</th>\n",
       "      <td>Top Free in Android Apps</td>\n",
       "      <td>Rated 3 stars out of five stars</td>\n",
       "      <td>Tony</td>\n",
       "      <td>Messenger</td>\n",
       "      <td>February 7, 2017</td>\n",
       "      <td>I can't refresh anymore, and random people are...</td>\n",
       "      <td>3</td>\n",
       "    </tr>\n",
       "    <tr>\n",
       "      <th>8918</th>\n",
       "      <td>Top Free in Android Apps</td>\n",
       "      <td>Rated 5 stars out of five stars</td>\n",
       "      <td>Twinkle Easterwood</td>\n",
       "      <td>Messenger</td>\n",
       "      <td>February 7, 2017</td>\n",
       "      <td>Can talk to friends and family great with wifi...</td>\n",
       "      <td>5</td>\n",
       "    </tr>\n",
       "    <tr>\n",
       "      <th>8919</th>\n",
       "      <td>Top Free in Android Apps</td>\n",
       "      <td>Rated 1 stars out of five stars</td>\n",
       "      <td>anonymous</td>\n",
       "      <td>Messenger</td>\n",
       "      <td>February 6, 2017</td>\n",
       "      <td>Not Really happy that we need to download one ...</td>\n",
       "      <td>1</td>\n",
       "    </tr>\n",
       "    <tr>\n",
       "      <th>8920</th>\n",
       "      <td>Top Free in Android Apps</td>\n",
       "      <td>Rated 1 stars out of five stars</td>\n",
       "      <td>Gregory Dean</td>\n",
       "      <td>Messenger</td>\n",
       "      <td>February 7, 2017</td>\n",
       "      <td>The app won't let me complete a block. I perso...</td>\n",
       "      <td>1</td>\n",
       "    </tr>\n",
       "    <tr>\n",
       "      <th>8921</th>\n",
       "      <td>Top Free in Android Apps</td>\n",
       "      <td>Rated 5 stars out of five stars</td>\n",
       "      <td>SUCHA SINGH</td>\n",
       "      <td>Messenger</td>\n",
       "      <td>February 7, 2017</td>\n",
       "      <td>Its a good way of connecting with people n tal...</td>\n",
       "      <td>5</td>\n",
       "    </tr>\n",
       "    <tr>\n",
       "      <th>8922</th>\n",
       "      <td>Top Free in Android Apps</td>\n",
       "      <td>Rated 3 stars out of five stars</td>\n",
       "      <td>Kumar Saurabh</td>\n",
       "      <td>Messenger</td>\n",
       "      <td>February 7, 2017</td>\n",
       "      <td>Everytime i am activating chat popup but autom...</td>\n",
       "      <td>3</td>\n",
       "    </tr>\n",
       "    <tr>\n",
       "      <th>8923</th>\n",
       "      <td>Top Free in Android Apps</td>\n",
       "      <td>Rated 3 stars out of five stars</td>\n",
       "      <td>Fadzila Hafizan</td>\n",
       "      <td>Messenger</td>\n",
       "      <td>February 7, 2017</td>\n",
       "      <td>u take too much storage space, too much until ...</td>\n",
       "      <td>3</td>\n",
       "    </tr>\n",
       "    <tr>\n",
       "      <th>8924</th>\n",
       "      <td>Top Free in Android Apps</td>\n",
       "      <td>Rated 1 stars out of five stars</td>\n",
       "      <td>The Viking</td>\n",
       "      <td>Messenger</td>\n",
       "      <td>February 7, 2017</td>\n",
       "      <td>This app sux.. And need alot of updates to sol...</td>\n",
       "      <td>1</td>\n",
       "    </tr>\n",
       "    <tr>\n",
       "      <th>8925</th>\n",
       "      <td>Top Free in Android Apps</td>\n",
       "      <td>Rated 4 stars out of five stars</td>\n",
       "      <td>anonymous</td>\n",
       "      <td>Messenger</td>\n",
       "      <td>February 6, 2017</td>\n",
       "      <td>It is useful for me because i can easily conta...</td>\n",
       "      <td>4</td>\n",
       "    </tr>\n",
       "    <tr>\n",
       "      <th>8926</th>\n",
       "      <td>Top Free in Android Apps</td>\n",
       "      <td>Rated 5 stars out of five stars</td>\n",
       "      <td>martha yahaya</td>\n",
       "      <td>Messenger</td>\n",
       "      <td>February 7, 2017</td>\n",
       "      <td>Infact is the best, when you send message or r...</td>\n",
       "      <td>5</td>\n",
       "    </tr>\n",
       "    <tr>\n",
       "      <th>8927</th>\n",
       "      <td>Top Free in Android Apps</td>\n",
       "      <td>Rated 4 stars out of five stars</td>\n",
       "      <td>anonymous</td>\n",
       "      <td>Messenger</td>\n",
       "      <td>February 7, 2017</td>\n",
       "      <td>I think it's a nice app by Facebook. People wo...</td>\n",
       "      <td>4</td>\n",
       "    </tr>\n",
       "    <tr>\n",
       "      <th>8928</th>\n",
       "      <td>Top Free in Android Apps</td>\n",
       "      <td>Rated 5 stars out of five stars</td>\n",
       "      <td>Theresa Mwandwa</td>\n",
       "      <td>Messenger</td>\n",
       "      <td>February 6, 2017</td>\n",
       "      <td>The app is so very nice, easy to use and works...</td>\n",
       "      <td>5</td>\n",
       "    </tr>\n",
       "  </tbody>\n",
       "</table>\n",
       "<p>8929 rows × 7 columns</p>\n",
       "</div>"
      ],
      "text/plain": [
       "                      category                           rating  \\\n",
       "0     Top Free in Android Apps  Rated 1 stars out of five stars   \n",
       "1     Top Free in Android Apps  Rated 5 stars out of five stars   \n",
       "2     Top Free in Android Apps  Rated 5 stars out of five stars   \n",
       "3     Top Free in Android Apps  Rated 1 stars out of five stars   \n",
       "4     Top Free in Android Apps  Rated 1 stars out of five stars   \n",
       "5     Top Free in Android Apps  Rated 4 stars out of five stars   \n",
       "6     Top Free in Android Apps  Rated 3 stars out of five stars   \n",
       "7     Top Free in Android Apps  Rated 1 stars out of five stars   \n",
       "8     Top Free in Android Apps  Rated 1 stars out of five stars   \n",
       "9     Top Free in Android Apps  Rated 2 stars out of five stars   \n",
       "10    Top Free in Android Apps  Rated 1 stars out of five stars   \n",
       "11    Top Free in Android Apps  Rated 1 stars out of five stars   \n",
       "12    Top Free in Android Apps  Rated 4 stars out of five stars   \n",
       "13    Top Free in Android Apps  Rated 5 stars out of five stars   \n",
       "14    Top Free in Android Apps  Rated 1 stars out of five stars   \n",
       "15    Top Free in Android Apps  Rated 4 stars out of five stars   \n",
       "16    Top Free in Android Apps  Rated 5 stars out of five stars   \n",
       "17    Top Free in Android Apps  Rated 4 stars out of five stars   \n",
       "18    Top Free in Android Apps  Rated 5 stars out of five stars   \n",
       "19    Top Free in Android Apps  Rated 5 stars out of five stars   \n",
       "20    Top Free in Android Apps  Rated 1 stars out of five stars   \n",
       "21    Top Free in Android Apps  Rated 4 stars out of five stars   \n",
       "22    Top Free in Android Apps  Rated 2 stars out of five stars   \n",
       "23    Top Free in Android Apps  Rated 5 stars out of five stars   \n",
       "24    Top Free in Android Apps  Rated 3 stars out of five stars   \n",
       "25    Top Free in Android Apps  Rated 1 stars out of five stars   \n",
       "26    Top Free in Android Apps  Rated 1 stars out of five stars   \n",
       "27    Top Free in Android Apps  Rated 5 stars out of five stars   \n",
       "28    Top Free in Android Apps  Rated 1 stars out of five stars   \n",
       "29    Top Free in Android Apps  Rated 5 stars out of five stars   \n",
       "...                        ...                              ...   \n",
       "8899  Top Free in Android Apps  Rated 4 stars out of five stars   \n",
       "8900  Top Free in Android Apps  Rated 2 stars out of five stars   \n",
       "8901  Top Free in Android Apps  Rated 1 stars out of five stars   \n",
       "8902  Top Free in Android Apps  Rated 4 stars out of five stars   \n",
       "8903  Top Free in Android Apps  Rated 1 stars out of five stars   \n",
       "8904  Top Free in Android Apps  Rated 1 stars out of five stars   \n",
       "8905  Top Free in Android Apps  Rated 4 stars out of five stars   \n",
       "8906  Top Free in Android Apps  Rated 3 stars out of five stars   \n",
       "8907  Top Free in Android Apps  Rated 4 stars out of five stars   \n",
       "8908  Top Free in Android Apps  Rated 1 stars out of five stars   \n",
       "8909  Top Free in Android Apps  Rated 5 stars out of five stars   \n",
       "8910  Top Free in Android Apps  Rated 2 stars out of five stars   \n",
       "8911  Top Free in Android Apps  Rated 1 stars out of five stars   \n",
       "8912  Top Free in Android Apps  Rated 1 stars out of five stars   \n",
       "8913  Top Free in Android Apps  Rated 5 stars out of five stars   \n",
       "8914  Top Free in Android Apps  Rated 3 stars out of five stars   \n",
       "8915  Top Free in Android Apps  Rated 2 stars out of five stars   \n",
       "8916  Top Free in Android Apps  Rated 1 stars out of five stars   \n",
       "8917  Top Free in Android Apps  Rated 3 stars out of five stars   \n",
       "8918  Top Free in Android Apps  Rated 5 stars out of five stars   \n",
       "8919  Top Free in Android Apps  Rated 1 stars out of five stars   \n",
       "8920  Top Free in Android Apps  Rated 1 stars out of five stars   \n",
       "8921  Top Free in Android Apps  Rated 5 stars out of five stars   \n",
       "8922  Top Free in Android Apps  Rated 3 stars out of five stars   \n",
       "8923  Top Free in Android Apps  Rated 3 stars out of five stars   \n",
       "8924  Top Free in Android Apps  Rated 1 stars out of five stars   \n",
       "8925  Top Free in Android Apps  Rated 4 stars out of five stars   \n",
       "8926  Top Free in Android Apps  Rated 5 stars out of five stars   \n",
       "8927  Top Free in Android Apps  Rated 4 stars out of five stars   \n",
       "8928  Top Free in Android Apps  Rated 5 stars out of five stars   \n",
       "\n",
       "                                     name                             app  \\\n",
       "0                                    D Th                   FOX Sports GO   \n",
       "1                           Sophie Gordon  Kika Emoji Keyboard Pro + GIFs   \n",
       "2                    Srinidhi Karthik B S                 Amazon Shopping   \n",
       "3                          Christie Craft                   FOX Sports GO   \n",
       "4                        Lucas Don Velure                   FOX Sports GO   \n",
       "5                               Tim Hefty                   FOX Sports GO   \n",
       "6                            Chance Diggz                   FOX Sports GO   \n",
       "7                        Russell Morrisey                   FOX Sports GO   \n",
       "8                            Matt Ballard                   FOX Sports GO   \n",
       "9                            Tyler Aragon                   FOX Sports GO   \n",
       "10                           Emeka Uzomba                   FOX Sports GO   \n",
       "11                               Melody _                         Twitter   \n",
       "12                              anonymous  Kika Emoji Keyboard Pro + GIFs   \n",
       "13                      Harley Goez RAWRR  Kika Emoji Keyboard Pro + GIFs   \n",
       "14                            Katie Diehl  Kika Emoji Keyboard Pro + GIFs   \n",
       "15                          chasethegod93  Kika Emoji Keyboard Pro + GIFs   \n",
       "16                         Fred Gutierrez  Kika Emoji Keyboard Pro + GIFs   \n",
       "17                          Rachel Lipman  Kika Emoji Keyboard Pro + GIFs   \n",
       "18                         Patricia Alday  Kika Emoji Keyboard Pro + GIFs   \n",
       "19                           Sandra Short  Kika Emoji Keyboard Pro + GIFs   \n",
       "20    HeatherGabree United Faith Movement                 Amazon Shopping   \n",
       "21                              anonymous                 Amazon Shopping   \n",
       "22                           Johnny Geiss                 Amazon Shopping   \n",
       "23                               ben read                 Amazon Shopping   \n",
       "24                              anonymous                 Amazon Shopping   \n",
       "25                                d0x d0x                 Amazon Shopping   \n",
       "26                          Dave Sullivan                 Amazon Shopping   \n",
       "27                           Shawn Keller                 Amazon Shopping   \n",
       "28                          Marvin Ramsey     Yahoo Mail – Stay Organized   \n",
       "29                          Rhonda Gentry   ZEDGE™ Ringtones & Wallpapers   \n",
       "...                                   ...                             ...   \n",
       "8899                               Sina F                       Messenger   \n",
       "8900                          Ronnie Lohi                       Messenger   \n",
       "8901                            Chadack42                       Messenger   \n",
       "8902                           Nelly Amar                       Messenger   \n",
       "8903                            anonymous                       Messenger   \n",
       "8904                       Христо Христов                       Messenger   \n",
       "8905                           Jan Harris                       Messenger   \n",
       "8906                                Ma Ja                       Messenger   \n",
       "8907                            anonymous                       Messenger   \n",
       "8908                         flavius alin                       Messenger   \n",
       "8909                              AZ Star                       Messenger   \n",
       "8910                          Vinay vinnu                       Messenger   \n",
       "8911                            anonymous                       Messenger   \n",
       "8912                            anonymous                       Messenger   \n",
       "8913                         NoMuLa SuMaN                       Messenger   \n",
       "8914                          Lubna Javed                       Messenger   \n",
       "8915                        Kim McMillion                       Messenger   \n",
       "8916                           Kevin Luna                       Messenger   \n",
       "8917                                 Tony                       Messenger   \n",
       "8918                   Twinkle Easterwood                       Messenger   \n",
       "8919                            anonymous                       Messenger   \n",
       "8920                         Gregory Dean                       Messenger   \n",
       "8921                          SUCHA SINGH                       Messenger   \n",
       "8922                        Kumar Saurabh                       Messenger   \n",
       "8923                      Fadzila Hafizan                       Messenger   \n",
       "8924                           The Viking                       Messenger   \n",
       "8925                            anonymous                       Messenger   \n",
       "8926                        martha yahaya                       Messenger   \n",
       "8927                            anonymous                       Messenger   \n",
       "8928                      Theresa Mwandwa                       Messenger   \n",
       "\n",
       "                  date                                             review  \\\n",
       "0     February 5, 2017  Downloaded the app to watch the superebowl fro...   \n",
       "1     February 2, 2017  Great app! The predictive text works better th...   \n",
       "2     January 27, 2017  I love Amazon. This is the first time I felt p...   \n",
       "3     February 5, 2017  So the reason you decided to NOT allow us to w...   \n",
       "4     January 28, 2017  Works for exactly one time. Then needs to be r...   \n",
       "5     February 5, 2017  I really really really want to like this app b...   \n",
       "6     February 5, 2017  Truly suckz that the android app doesn't show ...   \n",
       "7     February 6, 2017  Chromecasted the Superbowl to save money on ca...   \n",
       "8     February 5, 2017  Advertised that I can stream the Superbowl thr...   \n",
       "9     January 22, 2017  Kept erroring with a \"null\" error message and ...   \n",
       "10    February 5, 2017  On my laptop and phone it stopped working 3rd ...   \n",
       "11    February 6, 2017  Was actively using Twitter when \"they\" decided...   \n",
       "12    February 6, 2017  I think this app is amazing! But I think you s...   \n",
       "13    February 1, 2017  I've been using this app for years now. I love...   \n",
       "14    February 4, 2017  Updated the app with a supposed fix for the ge...   \n",
       "15    February 3, 2017  Really cool keyboard. Has great interface and ...   \n",
       "16    January 31, 2017  This app does stuff! It's so cool for doing th...   \n",
       "17    February 3, 2017  This app is great but I wish you could chose y...   \n",
       "18    February 6, 2017  I tried other apps but they weren't as good as...   \n",
       "19    February 4, 2017        It definitely helps keep the boredom away😎   \n",
       "20    January 25, 2017  I have never had so many issues with ordering ...   \n",
       "21    January 24, 2017  EDIT: I emailed the seller and customer servic...   \n",
       "22    January 25, 2017  App is ok, my only complaint is that you have ...   \n",
       "23    January 28, 2017  This is a review for the app, not the company....   \n",
       "24    February 1, 2017  I like Amazon but their site and app need work...   \n",
       "25    January 26, 2017  This app is awful on the Pixel XL.  Sometimes ...   \n",
       "26    February 5, 2017  One starring this because of your awful Video ...   \n",
       "27    January 29, 2017  Tried to reach out to amazon but continously g...   \n",
       "28    February 2, 2017  It went from doing the job pretty decently to ...   \n",
       "29    February 7, 2017  I love the app and the ringtones but for some ...   \n",
       "...                ...                                                ...   \n",
       "8899  February 7, 2017  I like it alot it helps makes the best things ...   \n",
       "8900  February 6, 2017  Sending pictures rarely works with messenger, ...   \n",
       "8901  February 7, 2017  This app has had the same update info every ti...   \n",
       "8902  February 6, 2017  I love it but when connection is low. This mes...   \n",
       "8903  February 6, 2017  It won't connect even when my internet connect...   \n",
       "8904  February 6, 2017  It's still. The most terrible update. Nothing ...   \n",
       "8905  February 6, 2017  It's not too bad.  Plz quit making this app up...   \n",
       "8906  February 7, 2017  I don't like the new layout for adding text, i...   \n",
       "8907  February 7, 2017  I left a conversation and then changed my mine...   \n",
       "8908  February 7, 2017  It's always say \"waiting for network\" on cellu...   \n",
       "8909  February 6, 2017  I would like to sugess that if we can send s l...   \n",
       "8910  February 7, 2017  It is lagging my phone and it is connecting ag...   \n",
       "8911  February 6, 2017  Unread notification count won't go away even i...   \n",
       "8912  February 6, 2017  Hate this new messenger  and no option to reve...   \n",
       "8913  February 6, 2017  It's use full messenger gud app i don't know m...   \n",
       "8914  February 7, 2017  We can do Free calls  awesome  dunt remove fre...   \n",
       "8915  February 7, 2017  I hate you Dramabook!   separating into two ap...   \n",
       "8916  February 6, 2017  It's acting up now. It shut down and will not ...   \n",
       "8917  February 7, 2017  I can't refresh anymore, and random people are...   \n",
       "8918  February 7, 2017  Can talk to friends and family great with wifi...   \n",
       "8919  February 6, 2017  Not Really happy that we need to download one ...   \n",
       "8920  February 7, 2017  The app won't let me complete a block. I perso...   \n",
       "8921  February 7, 2017  Its a good way of connecting with people n tal...   \n",
       "8922  February 7, 2017  Everytime i am activating chat popup but autom...   \n",
       "8923  February 7, 2017  u take too much storage space, too much until ...   \n",
       "8924  February 7, 2017  This app sux.. And need alot of updates to sol...   \n",
       "8925  February 6, 2017  It is useful for me because i can easily conta...   \n",
       "8926  February 7, 2017  Infact is the best, when you send message or r...   \n",
       "8927  February 7, 2017  I think it's a nice app by Facebook. People wo...   \n",
       "8928  February 6, 2017  The app is so very nice, easy to use and works...   \n",
       "\n",
       "      ratingNum  \n",
       "0             1  \n",
       "1             5  \n",
       "2             5  \n",
       "3             1  \n",
       "4             1  \n",
       "5             4  \n",
       "6             3  \n",
       "7             1  \n",
       "8             1  \n",
       "9             2  \n",
       "10            1  \n",
       "11            1  \n",
       "12            4  \n",
       "13            5  \n",
       "14            1  \n",
       "15            4  \n",
       "16            5  \n",
       "17            4  \n",
       "18            5  \n",
       "19            5  \n",
       "20            1  \n",
       "21            4  \n",
       "22            2  \n",
       "23            5  \n",
       "24            3  \n",
       "25            1  \n",
       "26            1  \n",
       "27            5  \n",
       "28            1  \n",
       "29            5  \n",
       "...         ...  \n",
       "8899          4  \n",
       "8900          2  \n",
       "8901          1  \n",
       "8902          4  \n",
       "8903          1  \n",
       "8904          1  \n",
       "8905          4  \n",
       "8906          3  \n",
       "8907          4  \n",
       "8908          1  \n",
       "8909          5  \n",
       "8910          2  \n",
       "8911          1  \n",
       "8912          1  \n",
       "8913          5  \n",
       "8914          3  \n",
       "8915          2  \n",
       "8916          1  \n",
       "8917          3  \n",
       "8918          5  \n",
       "8919          1  \n",
       "8920          1  \n",
       "8921          5  \n",
       "8922          3  \n",
       "8923          3  \n",
       "8924          1  \n",
       "8925          4  \n",
       "8926          5  \n",
       "8927          4  \n",
       "8928          5  \n",
       "\n",
       "[8929 rows x 7 columns]"
      ]
     },
     "execution_count": 5,
     "metadata": {},
     "output_type": "execute_result"
    }
   ],
   "source": [
    "Data['ratingNum']=0\n",
    "for i in range(Data.shape[0]):\n",
    "    Data.loc[i,'ratingNum']=int(Data.loc[i,'rating'][6])\n",
    "Data"
   ]
  },
  {
   "cell_type": "code",
   "execution_count": null,
   "metadata": {
    "collapsed": true
   },
   "outputs": [],
   "source": [
    "####################################Top Free Apps########################################"
   ]
  },
  {
   "cell_type": "code",
   "execution_count": 164,
   "metadata": {
    "collapsed": false
   },
   "outputs": [
    {
     "name": "stderr",
     "output_type": "stream",
     "text": [
      "/Users/gaoxu/anaconda/lib/python2.7/site-packages/ipykernel/__main__.py:4: SettingWithCopyWarning: \n",
      "A value is trying to be set on a copy of a slice from a DataFrame.\n",
      "Try using .loc[row_indexer,col_indexer] = value instead\n",
      "\n",
      "See the caveats in the documentation: http://pandas.pydata.org/pandas-docs/stable/indexing.html#indexing-view-versus-copy\n"
     ]
    }
   ],
   "source": [
    "TFreeApps=Data.loc[Data.category==\"Top Free in Android Apps\",]\n",
    "#see the range Top Free\n",
    "TFreeApps['ratingNum'].value_counts().sort_index()\n",
    "TFreeApps['sentiment']=0"
   ]
  },
  {
   "cell_type": "code",
   "execution_count": 48,
   "metadata": {
    "collapsed": false
   },
   "outputs": [
    {
     "data": {
      "text/plain": [
       "<matplotlib.text.Text at 0x11328f550>"
      ]
     },
     "execution_count": 48,
     "metadata": {},
     "output_type": "execute_result"
    },
    {
     "data": {
      "image/png": "[encoded data removed]",
      "text/plain": [
       "<matplotlib.figure.Figure at 0x1132ab890>"
      ]
     },
     "metadata": {},
     "output_type": "display_data"
    }
   ],
   "source": [
    "plt.bar(range(1,6),TFreeApps['ratingNum'].value_counts().sort_index(),color=\"#3fa9f5\")\n",
    "plt.title(\"TfreeRating Distribution\")"
   ]
  },
  {
   "cell_type": "code",
   "execution_count": 6,
   "metadata": {
    "collapsed": false
   },
   "outputs": [],
   "source": [
    "def senti(dic):\n",
    "    input=dic\n",
    "    client = Algorithmia.client('simsUg+f0SezSAaGl4ybqtsW9We1')\n",
    "    algo = client.algo('nlp/SentimentAnalysis/1.0.3')\n",
    "    return algo.pipe(input).result[0]['sentiment']\n",
    "##this function uses sentiment analysis from Algorithmia to return a sentiment analysis "
   ]
  },
  {
   "cell_type": "code",
   "execution_count": 221,
   "metadata": {
    "collapsed": false
   },
   "outputs": [],
   "source": [
    "for i in range(0,2400):\n",
    "    review={'document': TFreeApps.iloc[i,5]}\n",
    "    TFreeApps.iloc[i,7]=senti(review)"
   ]
  },
  {
   "cell_type": "code",
   "execution_count": 254,
   "metadata": {
    "collapsed": true
   },
   "outputs": [],
   "source": [
    "TFreeApps.to_csv(\"TFreeApps.csv\")"
   ]
  },
  {
   "cell_type": "code",
   "execution_count": 252,
   "metadata": {
    "collapsed": false
   },
   "outputs": [],
   "source": [
    "###scatterplot for rating and sentiment"
   ]
  },
  {
   "cell_type": "code",
   "execution_count": 253,
   "metadata": {
    "collapsed": false,
    "scrolled": false
   },
   "outputs": [
    {
     "data": {
      "text/plain": [
       "<matplotlib.text.Text at 0x11cc6a0d0>"
      ]
     },
     "execution_count": 253,
     "metadata": {},
     "output_type": "execute_result"
    },
    {
     "data": {
      "image/png": "[encoded data removed]",
      "text/plain": [
       "<matplotlib.figure.Figure at 0x11bc4ac10>"
      ]
     },
     "metadata": {},
     "output_type": "display_data"
    }
   ],
   "source": [
    "plt.scatter(TFreeApps['sentiment'],TFreeApps['ratingNum'])\n",
    "plt.title(\"Relation of sentiment and rating\")\n",
    "plt.xlabel(\"sentiment\")\n",
    "plt.ylabel(\"Rating\")"
   ]
  },
  {
   "cell_type": "code",
   "execution_count": 240,
   "metadata": {
    "collapsed": false
   },
   "outputs": [
    {
     "data": {
      "text/plain": [
       "<matplotlib.axes._subplots.AxesSubplot at 0x11b9a14d0>"
      ]
     },
     "execution_count": 240,
     "metadata": {},
     "output_type": "execute_result"
    },
    {
     "data": {
      "image/png": "[encoded data removed]",
      "text/plain": [
       "<matplotlib.figure.Figure at 0x11b9b5090>"
      ]
     },
     "metadata": {},
     "output_type": "display_data"
    }
   ],
   "source": [
    "df2=TFreeApps[['ratingNum','sentiment']].dropna()\n",
    "df2.boxplot(by='ratingNum',column='sentiment')"
   ]
  },
  {
   "cell_type": "code",
   "execution_count": null,
   "metadata": {
    "collapsed": true
   },
   "outputs": [],
   "source": [
    "########################################TOP Paid########################################"
   ]
  },
  {
   "cell_type": "code",
   "execution_count": 227,
   "metadata": {
    "collapsed": false
   },
   "outputs": [
    {
     "name": "stderr",
     "output_type": "stream",
     "text": [
      "/Users/gaoxu/anaconda/lib/python2.7/site-packages/ipykernel/__main__.py:3: SettingWithCopyWarning: \n",
      "A value is trying to be set on a copy of a slice from a DataFrame.\n",
      "Try using .loc[row_indexer,col_indexer] = value instead\n",
      "\n",
      "See the caveats in the documentation: http://pandas.pydata.org/pandas-docs/stable/indexing.html#indexing-view-versus-copy\n",
      "  app.launch_new_instance()\n"
     ]
    },
    {
     "data": {
      "text/plain": [
       "1     399\n",
       "2     221\n",
       "3     286\n",
       "4     421\n",
       "5    1073\n",
       "Name: ratingNum, dtype: int64"
      ]
     },
     "execution_count": 227,
     "metadata": {},
     "output_type": "execute_result"
    }
   ],
   "source": [
    "TPaidApps=Data.loc[Data.category==\"Top Paid in Android Apps\",]\n",
    "#see the range Top Free\n",
    "TPaidApps['sentiment']=0\n",
    "TPaidApps['ratingNum'].value_counts().sort_index()\n"
   ]
  },
  {
   "cell_type": "code",
   "execution_count": 229,
   "metadata": {
    "collapsed": false
   },
   "outputs": [
    {
     "data": {
      "text/plain": [
       "<matplotlib.text.Text at 0x11a3ccbd0>"
      ]
     },
     "execution_count": 229,
     "metadata": {},
     "output_type": "execute_result"
    },
    {
     "data": {
      "image/png": "[encoded data removed]",
      "text/plain": [
       "<matplotlib.figure.Figure at 0x11a39a2d0>"
      ]
     },
     "metadata": {},
     "output_type": "display_data"
    }
   ],
   "source": [
    "plt.bar(range(1,6),TPaidApps['ratingNum'].value_counts().sort_index(),color=\"#3fa9f5\")\n",
    "plt.title(\"TPaidRating Distribution\")"
   ]
  },
  {
   "cell_type": "code",
   "execution_count": 241,
   "metadata": {
    "collapsed": true
   },
   "outputs": [],
   "source": [
    "for i in range(TPaidApps.shape[0]):\n",
    "    review={'document': TPaidApps.iloc[i,5]}\n",
    "    TPaidApps.iloc[i,7]=senti(review)"
   ]
  },
  {
   "cell_type": "code",
   "execution_count": 243,
   "metadata": {
    "collapsed": false
   },
   "outputs": [],
   "source": [
    "TPaidApps.to_csv(\"TPaidApps.csv\")"
   ]
  },
  {
   "cell_type": "code",
   "execution_count": 244,
   "metadata": {
    "collapsed": false
   },
   "outputs": [
    {
     "data": {
      "text/plain": [
       "<matplotlib.text.Text at 0x11baf81d0>"
      ]
     },
     "execution_count": 244,
     "metadata": {},
     "output_type": "execute_result"
    },
    {
     "data": {
      "image/png": "[encoded data removed]",
      "text/plain": [
       "<matplotlib.figure.Figure at 0x11babd350>"
      ]
     },
     "metadata": {},
     "output_type": "display_data"
    }
   ],
   "source": [
    "plt.scatter(TPaidApps['sentiment'],TPaidApps['ratingNum'])\n",
    "plt.title(\"Relation of sentiment and rating\")\n",
    "plt.xlabel(\"sentiment\")\n",
    "plt.ylabel(\"Rating\")"
   ]
  },
  {
   "cell_type": "code",
   "execution_count": 245,
   "metadata": {
    "collapsed": false
   },
   "outputs": [
    {
     "data": {
      "text/plain": [
       "<matplotlib.axes._subplots.AxesSubplot at 0x11bbe4350>"
      ]
     },
     "execution_count": 245,
     "metadata": {},
     "output_type": "execute_result"
    },
    {
     "data": {
      "image/png": "[encoded data removed]",
      "text/plain": [
       "<matplotlib.figure.Figure at 0x11bc56310>"
      ]
     },
     "metadata": {},
     "output_type": "display_data"
    }
   ],
   "source": [
    "df3=TPaidApps[['ratingNum','sentiment']].dropna()\n",
    "df3.boxplot(by='ratingNum',column='sentiment')"
   ]
  },
  {
   "cell_type": "code",
   "execution_count": null,
   "metadata": {
    "collapsed": true
   },
   "outputs": [],
   "source": [
    "####################################Top Grossing Game#############################"
   ]
  },
  {
   "cell_type": "code",
   "execution_count": 7,
   "metadata": {
    "collapsed": false
   },
   "outputs": [
    {
     "name": "stderr",
     "output_type": "stream",
     "text": [
      "/Users/gaoxu/anaconda/lib/python2.7/site-packages/ipykernel/__main__.py:4: SettingWithCopyWarning: \n",
      "A value is trying to be set on a copy of a slice from a DataFrame.\n",
      "Try using .loc[row_indexer,col_indexer] = value instead\n",
      "\n",
      "See the caveats in the documentation: http://pandas.pydata.org/pandas-docs/stable/indexing.html#indexing-view-versus-copy\n"
     ]
    },
    {
     "data": {
      "text/plain": [
       "1    522\n",
       "2    185\n",
       "3    289\n",
       "4    251\n",
       "5    593\n",
       "Name: ratingNum, dtype: int64"
      ]
     },
     "execution_count": 7,
     "metadata": {},
     "output_type": "execute_result"
    }
   ],
   "source": [
    "\n",
    "TGrossGame=Data.loc[Data.category==\"Top Grossing Games\",]\n",
    "#see the range Top Free\n",
    "TGrossGame['sentiment']=0\n",
    "TGrossGame['ratingNum'].value_counts().sort_index()\n",
    "\n"
   ]
  },
  {
   "cell_type": "code",
   "execution_count": 247,
   "metadata": {
    "collapsed": false
   },
   "outputs": [
    {
     "data": {
      "text/plain": [
       "<matplotlib.text.Text at 0x11c3ca410>"
      ]
     },
     "execution_count": 247,
     "metadata": {},
     "output_type": "execute_result"
    },
    {
     "data": {
      "image/png": "[encoded data removed]",
      "text/plain": [
       "<matplotlib.figure.Figure at 0x11c276c50>"
      ]
     },
     "metadata": {},
     "output_type": "display_data"
    }
   ],
   "source": [
    "plt.bar(range(1,6),TGrossGame['ratingNum'].value_counts().sort_index(),color=\"#3fa9f5\")\n",
    "plt.title(\"TGrossGame Distribution\")"
   ]
  },
  {
   "cell_type": "code",
   "execution_count": 8,
   "metadata": {
    "collapsed": false
   },
   "outputs": [
    {
     "name": "stderr",
     "output_type": "stream",
     "text": [
      "/Users/gaoxu/anaconda/lib/python2.7/site-packages/pandas/core/indexing.py:465: SettingWithCopyWarning: \n",
      "A value is trying to be set on a copy of a slice from a DataFrame.\n",
      "Try using .loc[row_indexer,col_indexer] = value instead\n",
      "\n",
      "See the caveats in the documentation: http://pandas.pydata.org/pandas-docs/stable/indexing.html#indexing-view-versus-copy\n",
      "  self.obj[item] = s\n"
     ]
    }
   ],
   "source": [
    "for i in range(TGrossGame.shape[0]):\n",
    "    review={'document': TGrossGame.iloc[i,5]}\n",
    "    TGrossGame.iloc[i,7]=senti(review)"
   ]
  },
  {
   "cell_type": "code",
   "execution_count": 10,
   "metadata": {
    "collapsed": false
   },
   "outputs": [],
   "source": [
    "TGrossGame.to_csv(\"TGrossGame.csv\")"
   ]
  },
  {
   "cell_type": "code",
   "execution_count": 250,
   "metadata": {
    "collapsed": false
   },
   "outputs": [
    {
     "data": {
      "text/plain": [
       "<matplotlib.text.Text at 0x11c457f10>"
      ]
     },
     "execution_count": 250,
     "metadata": {},
     "output_type": "execute_result"
    },
    {
     "data": {
      "image/png": "[encoded data removed]",
      "text/plain": [
       "<matplotlib.figure.Figure at 0x11c2af4d0>"
      ]
     },
     "metadata": {},
     "output_type": "display_data"
    }
   ],
   "source": [
    "plt.scatter(TGrossGame['sentiment'],TGrossGame['ratingNum'])\n",
    "plt.title(\"Relation of sentiment and rating\")\n",
    "plt.xlabel(\"sentiment\")\n",
    "plt.ylabel(\"Rating\")"
   ]
  },
  {
   "cell_type": "code",
   "execution_count": 251,
   "metadata": {
    "collapsed": false
   },
   "outputs": [
    {
     "data": {
      "text/plain": [
       "<matplotlib.axes._subplots.AxesSubplot at 0x11ca09510>"
      ]
     },
     "execution_count": 251,
     "metadata": {},
     "output_type": "execute_result"
    },
    {
     "data": {
      "image/png": "[encoded data removed]",
      "text/plain": [
       "<matplotlib.figure.Figure at 0x11ca24c90>"
      ]
     },
     "metadata": {},
     "output_type": "display_data"
    }
   ],
   "source": [
    "df4=TGrossGame[['ratingNum','sentiment']].dropna()\n",
    "df4.boxplot(by='ratingNum',column='sentiment')"
   ]
  },
  {
   "cell_type": "code",
   "execution_count": 1,
   "metadata": {
    "collapsed": false
   },
   "outputs": [
    {
     "ename": "NameError",
     "evalue": "name 'TFreeApps' is not defined",
     "output_type": "error",
     "traceback": [
      "\u001b[0;31m---------------------------------------------------------------------------\u001b[0m",
      "\u001b[0;31mNameError\u001b[0m                                 Traceback (most recent call last)",
      "\u001b[0;32m<ipython-input-1-2907d10bc5a5>\u001b[0m in \u001b[0;36m<module>\u001b[0;34m()\u001b[0m\n\u001b[1;32m      1\u001b[0m \u001b[0;32mfrom\u001b[0m \u001b[0mscipy\u001b[0m\u001b[0;34m.\u001b[0m\u001b[0mstats\u001b[0m \u001b[0;32mimport\u001b[0m \u001b[0mgaussian_kde\u001b[0m\u001b[0;34m\u001b[0m\u001b[0m\n\u001b[0;32m----> 2\u001b[0;31m \u001b[0mTFdensity\u001b[0m\u001b[0;34m=\u001b[0m\u001b[0mgaussian_kde\u001b[0m\u001b[0;34m(\u001b[0m\u001b[0mTFreeApps\u001b[0m\u001b[0;34m[\u001b[0m\u001b[0;34m'sentiment'\u001b[0m\u001b[0;34m]\u001b[0m\u001b[0;34m)\u001b[0m\u001b[0;34m\u001b[0m\u001b[0m\n\u001b[0m\u001b[1;32m      3\u001b[0m \u001b[0mTPdensity\u001b[0m\u001b[0;34m=\u001b[0m\u001b[0mgaussian_kde\u001b[0m\u001b[0;34m(\u001b[0m\u001b[0mTPaidApss\u001b[0m\u001b[0;34m[\u001b[0m\u001b[0;34m'sentiment'\u001b[0m\u001b[0;34m]\u001b[0m\u001b[0;34m)\u001b[0m\u001b[0;34m\u001b[0m\u001b[0m\n\u001b[1;32m      4\u001b[0m \u001b[0mTGdensity\u001b[0m\u001b[0;34m=\u001b[0m\u001b[0mgaussian_kde\u001b[0m\u001b[0;34m(\u001b[0m\u001b[0mTGrossGame\u001b[0m\u001b[0;34m[\u001b[0m\u001b[0;34m'sentiment'\u001b[0m\u001b[0;34m]\u001b[0m\u001b[0;34m)\u001b[0m\u001b[0;34m\u001b[0m\u001b[0m\n",
      "\u001b[0;31mNameError\u001b[0m: name 'TFreeApps' is not defined"
     ]
    }
   ],
   "source": [
    "from scipy.stats import gaussian_kde\n",
    "TFreeApps=pd.read_csv(\"TFreeApps.csv\")\n",
    "TFdensity=gaussian_kde(TFreeApps['sentiment'])\n",
    "TPdensity=gaussian_kde(TPaidApss['sentiment'])\n",
    "TGdensity=gaussian_kde(TGrossGame['sentiment'])"
   ]
  },
  {
   "cell_type": "code",
   "execution_count": null,
   "metadata": {
    "collapsed": true
   },
   "outputs": [],
   "source": []
  }
 ],
 "metadata": {
  "anaconda-cloud": {},
  "kernelspec": {
   "display_name": "Python [conda root]",
   "language": "python",
   "name": "conda-root-py"
  },
  "language_info": {
   "codemirror_mode": {
    "name": "ipython",
    "version": 2
   },
   "file_extension": ".py",
   "mimetype": "text/x-python",
   "name": "python",
   "nbconvert_exporter": "python",
   "pygments_lexer": "ipython2",
   "version": "2.7.12"
  }
 },
 "nbformat": 4,
 "nbformat_minor": 1
}
